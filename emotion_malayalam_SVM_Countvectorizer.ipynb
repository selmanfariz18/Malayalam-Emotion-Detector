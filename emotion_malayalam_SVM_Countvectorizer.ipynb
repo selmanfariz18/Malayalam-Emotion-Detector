{
 "cells": [
  {
   "cell_type": "code",
   "execution_count": 1,
   "id": "f04153a5-15f6-4912-8499-f6ff50787d33",
   "metadata": {},
   "outputs": [],
   "source": [
    "import os\n",
    "import pandas as pd\n",
    "import numpy as np\n",
    "import seaborn as sns\n",
    "from collections import Counter\n",
    "import neattext.functions as nfx"
   ]
  },
  {
   "cell_type": "code",
   "execution_count": 2,
   "id": "51e7ccfe-9c81-4704-9486-8309eaae9dc1",
   "metadata": {},
   "outputs": [],
   "source": [
    "from sklearn.linear_model import LogisticRegression\n",
    "from sklearn.naive_bayes import MultinomialNB\n",
    "\n",
    "from sklearn.feature_extraction.text import CountVectorizer, TfidfVectorizer\n",
    "\n",
    "from sklearn.metrics import accuracy_score, confusion_matrix, classification_report, ConfusionMatrixDisplay"
   ]
  },
  {
   "cell_type": "code",
   "execution_count": 3,
   "id": "8d5d082d-0195-41b9-9026-2c90f192791b",
   "metadata": {},
   "outputs": [],
   "source": [
    "df = pd.read_excel(\"/home/fariz/Works/Malayalam-Emotion-Detector/github_test/Emotions data.xlsx\")"
   ]
  },
  {
   "cell_type": "code",
   "execution_count": 4,
   "id": "f9a744ec-263f-4284-b9d2-2395373217fb",
   "metadata": {},
   "outputs": [
    {
     "data": {
      "text/html": [
       "<div>\n",
       "<style scoped>\n",
       "    .dataframe tbody tr th:only-of-type {\n",
       "        vertical-align: middle;\n",
       "    }\n",
       "\n",
       "    .dataframe tbody tr th {\n",
       "        vertical-align: top;\n",
       "    }\n",
       "\n",
       "    .dataframe thead th {\n",
       "        text-align: right;\n",
       "    }\n",
       "</style>\n",
       "<table border=\"1\" class=\"dataframe\">\n",
       "  <thead>\n",
       "    <tr style=\"text-align: right;\">\n",
       "      <th></th>\n",
       "      <th>Text</th>\n",
       "      <th>Emotion</th>\n",
       "    </tr>\n",
       "  </thead>\n",
       "  <tbody>\n",
       "    <tr>\n",
       "      <th>0</th>\n",
       "      <td>ബാക്കി പരലോകത്ത് വെച്ച് ചർച്ചചെയ്യാം</td>\n",
       "      <td>Excitement</td>\n",
       "    </tr>\n",
       "    <tr>\n",
       "      <th>1</th>\n",
       "      <td>കഴിഞ്ഞില്ല സൈമ ഇത് കഴിഞ്ഞ് ഒരു സുനാമി വരവ് ഇണ്ട്</td>\n",
       "      <td>Excitement</td>\n",
       "    </tr>\n",
       "    <tr>\n",
       "      <th>2</th>\n",
       "      <td>തേച്ചത് അവനല്ലേ. പിന്നെ എന്തുവാ ഈ കാണിക്കുന്നേ</td>\n",
       "      <td>Humour</td>\n",
       "    </tr>\n",
       "    <tr>\n",
       "      <th>3</th>\n",
       "      <td>ഒരാളെ ജീവിതത്തിലേക്ക് ഒളിഞ്ഞു നോക്കാനുള്ള മലയാ...</td>\n",
       "      <td>Humour</td>\n",
       "    </tr>\n",
       "    <tr>\n",
       "      <th>4</th>\n",
       "      <td>പെണ്ണിന് പകരം പബ്ജിയെ സ്നേഹിക്കു മോനെ</td>\n",
       "      <td>Humour</td>\n",
       "    </tr>\n",
       "  </tbody>\n",
       "</table>\n",
       "</div>"
      ],
      "text/plain": [
       "                                                Text     Emotion\n",
       "0               ബാക്കി പരലോകത്ത് വെച്ച് ചർച്ചചെയ്യാം  Excitement\n",
       "1   കഴിഞ്ഞില്ല സൈമ ഇത് കഴിഞ്ഞ് ഒരു സുനാമി വരവ് ഇണ്ട്  Excitement\n",
       "2     തേച്ചത് അവനല്ലേ. പിന്നെ എന്തുവാ ഈ കാണിക്കുന്നേ      Humour\n",
       "3  ഒരാളെ ജീവിതത്തിലേക്ക് ഒളിഞ്ഞു നോക്കാനുള്ള മലയാ...      Humour\n",
       "4              പെണ്ണിന് പകരം പബ്ജിയെ സ്നേഹിക്കു മോനെ      Humour"
      ]
     },
     "execution_count": 4,
     "metadata": {},
     "output_type": "execute_result"
    }
   ],
   "source": [
    "df.head()\n"
   ]
  },
  {
   "cell_type": "code",
   "execution_count": 5,
   "id": "e177b8a1-1ca6-426e-a042-e58554a6ecc6",
   "metadata": {},
   "outputs": [
    {
     "data": {
      "text/plain": [
       "Text       0\n",
       "Emotion    0\n",
       "dtype: int64"
      ]
     },
     "execution_count": 5,
     "metadata": {},
     "output_type": "execute_result"
    }
   ],
   "source": [
    "df.isnull().sum()\n"
   ]
  },
  {
   "cell_type": "code",
   "execution_count": 6,
   "id": "7ee69d27-2ad5-4288-b703-190fd5b74715",
   "metadata": {},
   "outputs": [
    {
     "name": "stdout",
     "output_type": "stream",
     "text": [
      "Empty DataFrame\n",
      "Columns: [Text, Emotion]\n",
      "Index: []\n"
     ]
    }
   ],
   "source": [
    "empty_cells = df[df.isnull().any(axis=1)]\n",
    "print(empty_cells)\n"
   ]
  },
  {
   "cell_type": "code",
   "execution_count": 7,
   "id": "fdd9596c-59e6-4a13-8a98-92d353750149",
   "metadata": {},
   "outputs": [
    {
     "data": {
      "text/plain": [
       "Emotion\n",
       "Excitement    1000\n",
       "Humour        1000\n",
       "Anger         1000\n",
       "Sad           1000\n",
       "Abusive       1000\n",
       "Love          1000\n",
       "Fear          1000\n",
       "Happy         1000\n",
       "Surprise      1000\n",
       "Sarcasm       1000\n",
       "Name: count, dtype: int64"
      ]
     },
     "execution_count": 7,
     "metadata": {},
     "output_type": "execute_result"
    }
   ],
   "source": [
    "df['Emotion'].value_counts()\n"
   ]
  },
  {
   "cell_type": "code",
   "execution_count": 8,
   "id": "b746e172-444a-4c79-ab92-113a3d210d57",
   "metadata": {},
   "outputs": [],
   "source": [
    "from sklearn.model_selection import train_test_split\n"
   ]
  },
  {
   "cell_type": "code",
   "execution_count": 9,
   "id": "9bb8731a-752f-42a5-9648-37a848c4e3b7",
   "metadata": {},
   "outputs": [],
   "source": [
    "df['Text'] = df['Text'].apply(nfx.remove_punctuations)\n"
   ]
  },
  {
   "cell_type": "code",
   "execution_count": 10,
   "id": "ae6f734b-e669-4142-b43d-a6b9797f399e",
   "metadata": {},
   "outputs": [],
   "source": [
    "Xfeatures = df['Text']\n",
    "ylabels = df['Emotion']"
   ]
  },
  {
   "cell_type": "code",
   "execution_count": 11,
   "id": "31714af1-cb79-46ea-a882-5052d616a70c",
   "metadata": {},
   "outputs": [],
   "source": [
    "cv = CountVectorizer()\n",
    "X = cv.fit_transform(Xfeatures)"
   ]
  },
  {
   "cell_type": "code",
   "execution_count": 12,
   "id": "b338213c-fe96-47e3-a926-52ea92235da0",
   "metadata": {},
   "outputs": [],
   "source": [
    "X_train,X_test,y_train,y_test = train_test_split(X,ylabels,test_size=0.3, random_state=42)\n"
   ]
  },
  {
   "cell_type": "code",
   "execution_count": 13,
   "id": "7c368ae0-128a-459d-9362-27bad7017c82",
   "metadata": {},
   "outputs": [
    {
     "name": "stdout",
     "output_type": "stream",
     "text": [
      "Training time: 6.762789s; Prediction time: 1.577974s\n"
     ]
    }
   ],
   "source": [
    "import time\n",
    "from sklearn import svm\n",
    "from sklearn.metrics import classification_report\n",
    "# Perform classification with SVM, kernel=linear\n",
    "classifier_linear = svm.SVC(kernel='linear')\n",
    "t0 = time.time()\n",
    "classifier_linear.fit(X_train, y_train)\n",
    "t1 = time.time()\n",
    "prediction_linear = classifier_linear.predict(X_test)\n",
    "t2 = time.time()\n",
    "time_linear_train = t1-t0\n",
    "time_linear_predict = t2-t1\n",
    "# results\n",
    "print(\"Training time: %fs; Prediction time: %fs\" % (time_linear_train, time_linear_predict))\n",
    "report = classification_report(y_test, prediction_linear, output_dict=True)"
   ]
  },
  {
   "cell_type": "code",
   "execution_count": 14,
   "id": "0232a0eb-30e7-4ce2-aaaf-86378e7d6d00",
   "metadata": {},
   "outputs": [
    {
     "data": {
      "text/plain": [
       "0.24666666666666667"
      ]
     },
     "execution_count": 14,
     "metadata": {},
     "output_type": "execute_result"
    }
   ],
   "source": [
    "classifier_linear.score(X_test,y_test)\n"
   ]
  },
  {
   "cell_type": "code",
   "execution_count": 15,
   "id": "317fdb70-7607-4416-8099-c49f26e33669",
   "metadata": {},
   "outputs": [
    {
     "data": {
      "text/html": [
       "<div>\n",
       "<style scoped>\n",
       "    .dataframe tbody tr th:only-of-type {\n",
       "        vertical-align: middle;\n",
       "    }\n",
       "\n",
       "    .dataframe tbody tr th {\n",
       "        vertical-align: top;\n",
       "    }\n",
       "\n",
       "    .dataframe thead th {\n",
       "        text-align: right;\n",
       "    }\n",
       "</style>\n",
       "<table border=\"1\" class=\"dataframe\">\n",
       "  <thead>\n",
       "    <tr style=\"text-align: right;\">\n",
       "      <th></th>\n",
       "      <th>precision</th>\n",
       "      <th>recall</th>\n",
       "      <th>f1-score</th>\n",
       "      <th>support</th>\n",
       "    </tr>\n",
       "  </thead>\n",
       "  <tbody>\n",
       "    <tr>\n",
       "      <th>Abusive</th>\n",
       "      <td>0.180758</td>\n",
       "      <td>0.223022</td>\n",
       "      <td>0.199678</td>\n",
       "      <td>278.000000</td>\n",
       "    </tr>\n",
       "    <tr>\n",
       "      <th>Anger</th>\n",
       "      <td>0.215686</td>\n",
       "      <td>0.224490</td>\n",
       "      <td>0.220000</td>\n",
       "      <td>294.000000</td>\n",
       "    </tr>\n",
       "    <tr>\n",
       "      <th>Excitement</th>\n",
       "      <td>0.214854</td>\n",
       "      <td>0.258786</td>\n",
       "      <td>0.234783</td>\n",
       "      <td>313.000000</td>\n",
       "    </tr>\n",
       "    <tr>\n",
       "      <th>Fear</th>\n",
       "      <td>0.377510</td>\n",
       "      <td>0.297468</td>\n",
       "      <td>0.332743</td>\n",
       "      <td>316.000000</td>\n",
       "    </tr>\n",
       "    <tr>\n",
       "      <th>Happy</th>\n",
       "      <td>0.363036</td>\n",
       "      <td>0.372881</td>\n",
       "      <td>0.367893</td>\n",
       "      <td>295.000000</td>\n",
       "    </tr>\n",
       "    <tr>\n",
       "      <th>Humour</th>\n",
       "      <td>0.161049</td>\n",
       "      <td>0.136076</td>\n",
       "      <td>0.147513</td>\n",
       "      <td>316.000000</td>\n",
       "    </tr>\n",
       "    <tr>\n",
       "      <th>Love</th>\n",
       "      <td>0.310256</td>\n",
       "      <td>0.436823</td>\n",
       "      <td>0.362819</td>\n",
       "      <td>277.000000</td>\n",
       "    </tr>\n",
       "    <tr>\n",
       "      <th>Sad</th>\n",
       "      <td>0.255319</td>\n",
       "      <td>0.251748</td>\n",
       "      <td>0.253521</td>\n",
       "      <td>286.000000</td>\n",
       "    </tr>\n",
       "    <tr>\n",
       "      <th>Sarcasm</th>\n",
       "      <td>0.134409</td>\n",
       "      <td>0.081699</td>\n",
       "      <td>0.101626</td>\n",
       "      <td>306.000000</td>\n",
       "    </tr>\n",
       "    <tr>\n",
       "      <th>Surprise</th>\n",
       "      <td>0.222222</td>\n",
       "      <td>0.206897</td>\n",
       "      <td>0.214286</td>\n",
       "      <td>319.000000</td>\n",
       "    </tr>\n",
       "    <tr>\n",
       "      <th>accuracy</th>\n",
       "      <td>0.246667</td>\n",
       "      <td>0.246667</td>\n",
       "      <td>0.246667</td>\n",
       "      <td>0.246667</td>\n",
       "    </tr>\n",
       "    <tr>\n",
       "      <th>macro avg</th>\n",
       "      <td>0.243510</td>\n",
       "      <td>0.248989</td>\n",
       "      <td>0.243486</td>\n",
       "      <td>3000.000000</td>\n",
       "    </tr>\n",
       "    <tr>\n",
       "      <th>weighted avg</th>\n",
       "      <td>0.243057</td>\n",
       "      <td>0.246667</td>\n",
       "      <td>0.242143</td>\n",
       "      <td>3000.000000</td>\n",
       "    </tr>\n",
       "  </tbody>\n",
       "</table>\n",
       "</div>"
      ],
      "text/plain": [
       "              precision    recall  f1-score      support\n",
       "Abusive        0.180758  0.223022  0.199678   278.000000\n",
       "Anger          0.215686  0.224490  0.220000   294.000000\n",
       "Excitement     0.214854  0.258786  0.234783   313.000000\n",
       "Fear           0.377510  0.297468  0.332743   316.000000\n",
       "Happy          0.363036  0.372881  0.367893   295.000000\n",
       "Humour         0.161049  0.136076  0.147513   316.000000\n",
       "Love           0.310256  0.436823  0.362819   277.000000\n",
       "Sad            0.255319  0.251748  0.253521   286.000000\n",
       "Sarcasm        0.134409  0.081699  0.101626   306.000000\n",
       "Surprise       0.222222  0.206897  0.214286   319.000000\n",
       "accuracy       0.246667  0.246667  0.246667     0.246667\n",
       "macro avg      0.243510  0.248989  0.243486  3000.000000\n",
       "weighted avg   0.243057  0.246667  0.242143  3000.000000"
      ]
     },
     "execution_count": 15,
     "metadata": {},
     "output_type": "execute_result"
    }
   ],
   "source": [
    "df = pd.DataFrame(report).transpose()\n",
    "df"
   ]
  },
  {
   "cell_type": "code",
   "execution_count": 16,
   "id": "d5cb6547-d5c0-431c-951c-e4dc0784b9f2",
   "metadata": {},
   "outputs": [
    {
     "data": {
      "text/plain": [
       "Text(0.5, 1.0, 'Confusion Matrix')"
      ]
     },
     "execution_count": 16,
     "metadata": {},
     "output_type": "execute_result"
    },
    {
     "data": {
      "image/png": "[encoded data removed]",
      "text/plain": [
       "<Figure size 640x480 with 2 Axes>"
      ]
     },
     "metadata": {},
     "output_type": "display_data"
    }
   ],
   "source": [
    "cm = confusion_matrix(y_test, prediction_linear, labels=classifier_linear.classes_)\n",
    "disp = ConfusionMatrixDisplay(confusion_matrix=cm, display_labels=classifier_linear.classes_)\n",
    "\n",
    "# Plotting the confusion matrix\n",
    "disp.plot(cmap='Blues', xticks_rotation='vertical')\n",
    "sns.set(rc={'figure.figsize':(8,6)})\n",
    "disp.ax_.set_title(\"Confusion Matrix\")"
   ]
  },
  {
   "cell_type": "code",
   "execution_count": 17,
   "id": "26630294-b7c1-49a0-9a42-766491eba5a9",
   "metadata": {},
   "outputs": [
    {
     "name": "stdout",
     "output_type": "stream",
     "text": [
      "['Love']\n"
     ]
    }
   ],
   "source": [
    "review = [\"സ്നേഹം ഒരുപാട് മാറ്റങ്ങൾ കൊണ്ടു വരും\"]\n",
    "myvect = review_vector = cv.transform(review).toarray()\n",
    "print(classifier_linear.predict(review_vector))"
   ]
  },
  {
   "cell_type": "code",
   "execution_count": 20,
   "id": "f5f4236b-ec29-471d-a2e3-8757be064ca5",
   "metadata": {},
   "outputs": [
    {
     "name": "stdout",
     "output_type": "stream",
     "text": [
      "Model and Vectorizer Saved Successfully!\n"
     ]
    }
   ],
   "source": [
    "import joblib\n",
    "\n",
    "\n",
    "joblib.dump(classifier_linear, \"svm_emotion_model.pkl\")\n",
    "joblib.dump(cv, \"count_vectorizer.pkl\")\n",
    "\n",
    "print(\"Model and Vectorizer Saved Successfully!\")"
   ]
  },
  {
   "cell_type": "code",
   "execution_count": null,
   "id": "0c6fbbb9-8c07-40a0-b00e-f5cabaff5d5e",
   "metadata": {},
   "outputs": [],
   "source": []
  },
  {
   "cell_type": "code",
   "execution_count": null,
   "id": "b20fcd15-22a4-4297-b496-31b3493ce50b",
   "metadata": {},
   "outputs": [],
   "source": []
  }
 ],
 "metadata": {
  "kernelspec": {
   "display_name": "Emotion Detector Env",
   "language": "python",
   "name": "env"
  },
  "language_info": {
   "codemirror_mode": {
    "name": "ipython",
    "version": 3
   },
   "file_extension": ".py",
   "mimetype": "text/x-python",
   "name": "python",
   "nbconvert_exporter": "python",
   "pygments_lexer": "ipython3",
   "version": "3.11.11"
  }
 },
 "nbformat": 4,
 "nbformat_minor": 5
}
