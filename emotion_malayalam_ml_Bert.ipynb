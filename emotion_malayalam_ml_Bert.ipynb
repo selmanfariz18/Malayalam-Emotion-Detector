{
 "cells": [
  {
   "cell_type": "code",
   "execution_count": 1,
   "id": "f04153a5-15f6-4912-8499-f6ff50787d33",
   "metadata": {},
   "outputs": [
    {
     "name": "stderr",
     "output_type": "stream",
     "text": [
      "2025-03-09 20:04:40.424096: I tensorflow/core/util/port.cc:153] oneDNN custom operations are on. You may see slightly different numerical results due to floating-point round-off errors from different computation orders. To turn them off, set the environment variable `TF_ENABLE_ONEDNN_OPTS=0`.\n",
      "2025-03-09 20:04:40.581727: E external/local_xla/xla/stream_executor/cuda/cuda_fft.cc:477] Unable to register cuFFT factory: Attempting to register factory for plugin cuFFT when one has already been registered\n",
      "WARNING: All log messages before absl::InitializeLog() is called are written to STDERR\n",
      "E0000 00:00:1741530880.680034   24234 cuda_dnn.cc:8310] Unable to register cuDNN factory: Attempting to register factory for plugin cuDNN when one has already been registered\n",
      "E0000 00:00:1741530880.705037   24234 cuda_blas.cc:1418] Unable to register cuBLAS factory: Attempting to register factory for plugin cuBLAS when one has already been registered\n",
      "2025-03-09 20:04:40.847299: I tensorflow/core/platform/cpu_feature_guard.cc:210] This TensorFlow binary is optimized to use available CPU instructions in performance-critical operations.\n",
      "To enable the following instructions: AVX2 AVX_VNNI FMA, in other operations, rebuild TensorFlow with the appropriate compiler flags.\n"
     ]
    }
   ],
   "source": [
    "import os\n",
    "import pandas as pd\n",
    "import numpy as np\n",
    "import seaborn as sns\n",
    "import torch\n",
    "from sklearn.model_selection import train_test_split\n",
    "from sklearn.metrics import accuracy_score, confusion_matrix, classification_report, ConfusionMatrixDisplay\n",
    "import neattext.functions as nfx\n",
    "from transformers import BertTokenizer, BertForSequenceClassification, AdamW\n",
    "from torch.utils.data import DataLoader, TensorDataset"
   ]
  },
  {
   "cell_type": "code",
   "execution_count": 2,
   "id": "51e7ccfe-9c81-4704-9486-8309eaae9dc1",
   "metadata": {},
   "outputs": [],
   "source": [
    "df = pd.read_excel(\"/home/fariz/Works/Malayalam-Emotion-Detector/github_test/Emotions data.xlsx\")"
   ]
  },
  {
   "cell_type": "code",
   "execution_count": 3,
   "id": "8d5d082d-0195-41b9-9026-2c90f192791b",
   "metadata": {},
   "outputs": [
    {
     "data": {
      "text/html": [
       "<div>\n",
       "<style scoped>\n",
       "    .dataframe tbody tr th:only-of-type {\n",
       "        vertical-align: middle;\n",
       "    }\n",
       "\n",
       "    .dataframe tbody tr th {\n",
       "        vertical-align: top;\n",
       "    }\n",
       "\n",
       "    .dataframe thead th {\n",
       "        text-align: right;\n",
       "    }\n",
       "</style>\n",
       "<table border=\"1\" class=\"dataframe\">\n",
       "  <thead>\n",
       "    <tr style=\"text-align: right;\">\n",
       "      <th></th>\n",
       "      <th>Text</th>\n",
       "      <th>Emotion</th>\n",
       "    </tr>\n",
       "  </thead>\n",
       "  <tbody>\n",
       "    <tr>\n",
       "      <th>0</th>\n",
       "      <td>ബാക്കി പരലോകത്ത് വെച്ച് ചർച്ചചെയ്യാം</td>\n",
       "      <td>Excitement</td>\n",
       "    </tr>\n",
       "    <tr>\n",
       "      <th>1</th>\n",
       "      <td>കഴിഞ്ഞില്ല സൈമ ഇത് കഴിഞ്ഞ് ഒരു സുനാമി വരവ് ഇണ്ട്</td>\n",
       "      <td>Excitement</td>\n",
       "    </tr>\n",
       "    <tr>\n",
       "      <th>2</th>\n",
       "      <td>തേച്ചത് അവനല്ലേ. പിന്നെ എന്തുവാ ഈ കാണിക്കുന്നേ</td>\n",
       "      <td>Humour</td>\n",
       "    </tr>\n",
       "    <tr>\n",
       "      <th>3</th>\n",
       "      <td>ഒരാളെ ജീവിതത്തിലേക്ക് ഒളിഞ്ഞു നോക്കാനുള്ള മലയാ...</td>\n",
       "      <td>Humour</td>\n",
       "    </tr>\n",
       "    <tr>\n",
       "      <th>4</th>\n",
       "      <td>പെണ്ണിന് പകരം പബ്ജിയെ സ്നേഹിക്കു മോനെ</td>\n",
       "      <td>Humour</td>\n",
       "    </tr>\n",
       "  </tbody>\n",
       "</table>\n",
       "</div>"
      ],
      "text/plain": [
       "                                                Text     Emotion\n",
       "0               ബാക്കി പരലോകത്ത് വെച്ച് ചർച്ചചെയ്യാം  Excitement\n",
       "1   കഴിഞ്ഞില്ല സൈമ ഇത് കഴിഞ്ഞ് ഒരു സുനാമി വരവ് ഇണ്ട്  Excitement\n",
       "2     തേച്ചത് അവനല്ലേ. പിന്നെ എന്തുവാ ഈ കാണിക്കുന്നേ      Humour\n",
       "3  ഒരാളെ ജീവിതത്തിലേക്ക് ഒളിഞ്ഞു നോക്കാനുള്ള മലയാ...      Humour\n",
       "4              പെണ്ണിന് പകരം പബ്ജിയെ സ്നേഹിക്കു മോനെ      Humour"
      ]
     },
     "execution_count": 3,
     "metadata": {},
     "output_type": "execute_result"
    }
   ],
   "source": [
    "df.head()"
   ]
  },
  {
   "cell_type": "code",
   "execution_count": 4,
   "id": "f9a744ec-263f-4284-b9d2-2395373217fb",
   "metadata": {},
   "outputs": [
    {
     "data": {
      "text/html": [
       "<div>\n",
       "<style scoped>\n",
       "    .dataframe tbody tr th:only-of-type {\n",
       "        vertical-align: middle;\n",
       "    }\n",
       "\n",
       "    .dataframe tbody tr th {\n",
       "        vertical-align: top;\n",
       "    }\n",
       "\n",
       "    .dataframe thead th {\n",
       "        text-align: right;\n",
       "    }\n",
       "</style>\n",
       "<table border=\"1\" class=\"dataframe\">\n",
       "  <thead>\n",
       "    <tr style=\"text-align: right;\">\n",
       "      <th></th>\n",
       "      <th>Text</th>\n",
       "      <th>Emotion</th>\n",
       "    </tr>\n",
       "  </thead>\n",
       "  <tbody>\n",
       "    <tr>\n",
       "      <th>0</th>\n",
       "      <td>ബാക്കി പരലോകത്ത് വെച്ച് ചർച്ചചെയ്യാം</td>\n",
       "      <td>Excitement</td>\n",
       "    </tr>\n",
       "    <tr>\n",
       "      <th>1</th>\n",
       "      <td>കഴിഞ്ഞില്ല സൈമ ഇത് കഴിഞ്ഞ് ഒരു സുനാമി വരവ് ഇണ്ട്</td>\n",
       "      <td>Excitement</td>\n",
       "    </tr>\n",
       "    <tr>\n",
       "      <th>2</th>\n",
       "      <td>തേച്ചത് അവനല്ലേ. പിന്നെ എന്തുവാ ഈ കാണിക്കുന്നേ</td>\n",
       "      <td>Humour</td>\n",
       "    </tr>\n",
       "    <tr>\n",
       "      <th>3</th>\n",
       "      <td>ഒരാളെ ജീവിതത്തിലേക്ക് ഒളിഞ്ഞു നോക്കാനുള്ള മലയാ...</td>\n",
       "      <td>Humour</td>\n",
       "    </tr>\n",
       "    <tr>\n",
       "      <th>4</th>\n",
       "      <td>പെണ്ണിന് പകരം പബ്ജിയെ സ്നേഹിക്കു മോനെ</td>\n",
       "      <td>Humour</td>\n",
       "    </tr>\n",
       "  </tbody>\n",
       "</table>\n",
       "</div>"
      ],
      "text/plain": [
       "                                                Text     Emotion\n",
       "0               ബാക്കി പരലോകത്ത് വെച്ച് ചർച്ചചെയ്യാം  Excitement\n",
       "1   കഴിഞ്ഞില്ല സൈമ ഇത് കഴിഞ്ഞ് ഒരു സുനാമി വരവ് ഇണ്ട്  Excitement\n",
       "2     തേച്ചത് അവനല്ലേ. പിന്നെ എന്തുവാ ഈ കാണിക്കുന്നേ      Humour\n",
       "3  ഒരാളെ ജീവിതത്തിലേക്ക് ഒളിഞ്ഞു നോക്കാനുള്ള മലയാ...      Humour\n",
       "4              പെണ്ണിന് പകരം പബ്ജിയെ സ്നേഹിക്കു മോനെ      Humour"
      ]
     },
     "execution_count": 4,
     "metadata": {},
     "output_type": "execute_result"
    }
   ],
   "source": [
    "df.head()\n"
   ]
  },
  {
   "cell_type": "code",
   "execution_count": 5,
   "id": "e177b8a1-1ca6-426e-a042-e58554a6ecc6",
   "metadata": {},
   "outputs": [
    {
     "data": {
      "text/plain": [
       "Text       0\n",
       "Emotion    0\n",
       "dtype: int64"
      ]
     },
     "execution_count": 5,
     "metadata": {},
     "output_type": "execute_result"
    }
   ],
   "source": [
    "df.isnull().sum()"
   ]
  },
  {
   "cell_type": "code",
   "execution_count": 6,
   "id": "fdd9596c-59e6-4a13-8a98-92d353750149",
   "metadata": {},
   "outputs": [
    {
     "data": {
      "text/plain": [
       "Emotion\n",
       "Excitement    1000\n",
       "Humour        1000\n",
       "Anger         1000\n",
       "Sad           1000\n",
       "Abusive       1000\n",
       "Love          1000\n",
       "Fear          1000\n",
       "Happy         1000\n",
       "Surprise      1000\n",
       "Sarcasm       1000\n",
       "Name: count, dtype: int64"
      ]
     },
     "execution_count": 6,
     "metadata": {},
     "output_type": "execute_result"
    }
   ],
   "source": [
    "df['Emotion'].value_counts()\n"
   ]
  },
  {
   "cell_type": "code",
   "execution_count": 7,
   "id": "b746e172-444a-4c79-ab92-113a3d210d57",
   "metadata": {},
   "outputs": [],
   "source": [
    "df['Text'] = df['Text'].apply(nfx.remove_punctuations)\n"
   ]
  },
  {
   "cell_type": "code",
   "execution_count": 8,
   "id": "9bb8731a-752f-42a5-9648-37a848c4e3b7",
   "metadata": {},
   "outputs": [
    {
     "name": "stdout",
     "output_type": "stream",
     "text": [
      "Label Mapping: {0: 'Abusive', 1: 'Anger', 2: 'Excitement', 3: 'Fear', 4: 'Happy', 5: 'Humour', 6: 'Love', 7: 'Sad', 8: 'Sarcasm', 9: 'Surprise'}\n"
     ]
    }
   ],
   "source": [
    "# Convert emotions to numerical labels\n",
    "emotion_labels = df['Emotion'].astype('category').cat.codes\n",
    "label_mapping = dict(enumerate(df['Emotion'].astype('category').cat.categories))\n",
    "print(\"Label Mapping:\", label_mapping)"
   ]
  },
  {
   "cell_type": "code",
   "execution_count": 9,
   "id": "ae6f734b-e669-4142-b43d-a6b9797f399e",
   "metadata": {},
   "outputs": [],
   "source": [
    "X_train, X_test, y_train, y_test = train_test_split(df['Text'], emotion_labels, test_size=0.3, random_state=42)"
   ]
  },
  {
   "cell_type": "code",
   "execution_count": 10,
   "id": "31714af1-cb79-46ea-a882-5052d616a70c",
   "metadata": {},
   "outputs": [],
   "source": [
    "tokenizer = BertTokenizer.from_pretrained('bert-base-uncased')\n"
   ]
  },
  {
   "cell_type": "code",
   "execution_count": 11,
   "id": "b338213c-fe96-47e3-a926-52ea92235da0",
   "metadata": {},
   "outputs": [],
   "source": [
    "# Tokenize training data\n",
    "train_encodings = tokenizer(X_train.tolist(), truncation=True, padding=True, max_length=128, return_tensors='pt')\n",
    "\n",
    "# Tokenize test data\n",
    "test_encodings = tokenizer(X_test.tolist(), truncation=True, padding=True, max_length=128, return_tensors='pt')"
   ]
  },
  {
   "cell_type": "code",
   "execution_count": 12,
   "id": "7c368ae0-128a-459d-9362-27bad7017c82",
   "metadata": {},
   "outputs": [],
   "source": [
    "# Convert to PyTorch datasets\n",
    "train_dataset = TensorDataset(train_encodings['input_ids'], train_encodings['attention_mask'], torch.tensor(y_train.tolist()))\n",
    "test_dataset = TensorDataset(test_encodings['input_ids'], test_encodings['attention_mask'], torch.tensor(y_test.tolist()))"
   ]
  },
  {
   "cell_type": "code",
   "execution_count": 13,
   "id": "0232a0eb-30e7-4ce2-aaaf-86378e7d6d00",
   "metadata": {},
   "outputs": [
    {
     "name": "stderr",
     "output_type": "stream",
     "text": [
      "Some weights of BertForSequenceClassification were not initialized from the model checkpoint at bert-base-uncased and are newly initialized: ['classifier.bias', 'classifier.weight']\n",
      "You should probably TRAIN this model on a down-stream task to be able to use it for predictions and inference.\n"
     ]
    }
   ],
   "source": [
    "model = BertForSequenceClassification.from_pretrained('bert-base-uncased', num_labels=len(label_mapping))"
   ]
  },
  {
   "cell_type": "code",
   "execution_count": 14,
   "id": "317fdb70-7607-4416-8099-c49f26e33669",
   "metadata": {},
   "outputs": [],
   "source": [
    "train_loader = DataLoader(train_dataset, batch_size=16, shuffle=True)\n",
    "test_loader = DataLoader(test_dataset, batch_size=16, shuffle=False)"
   ]
  },
  {
   "cell_type": "code",
   "execution_count": 15,
   "id": "d5cb6547-d5c0-431c-951c-e4dc0784b9f2",
   "metadata": {},
   "outputs": [
    {
     "name": "stderr",
     "output_type": "stream",
     "text": [
      "/home/fariz/Works/Malayalam-Emotion-Detector/env/lib64/python3.11/site-packages/transformers/optimization.py:591: FutureWarning: This implementation of AdamW is deprecated and will be removed in a future version. Use the PyTorch implementation torch.optim.AdamW instead, or set `no_deprecation_warning=True` to disable this warning\n",
      "  warnings.warn(\n"
     ]
    }
   ],
   "source": [
    "optimizer = AdamW(model.parameters(), lr=2e-5)\n"
   ]
  },
  {
   "cell_type": "code",
   "execution_count": 17,
   "id": "26630294-b7c1-49a0-9a42-766491eba5a9",
   "metadata": {},
   "outputs": [
    {
     "name": "stdout",
     "output_type": "stream",
     "text": [
      "Epoch 1, Loss: 2.296342912874265\n",
      "Epoch 2, Loss: 2.2830165504864905\n",
      "Epoch 3, Loss: 2.2725748229244527\n"
     ]
    }
   ],
   "source": [
    "device = torch.device('cuda') if torch.cuda.is_available() else torch.device('cpu')\n",
    "model.to(device)\n",
    "\n",
    "epochs = 3\n",
    "for epoch in range(epochs):\n",
    "    model.train()\n",
    "    total_loss = 0\n",
    "    for batch in train_loader:\n",
    "        optimizer.zero_grad()\n",
    "        input_ids, attention_mask, labels = batch\n",
    "        input_ids, attention_mask, labels = input_ids.to(device), attention_mask.to(device), labels.to(device)\n",
    "        outputs = model(input_ids, attention_mask=attention_mask, labels=labels)\n",
    "        loss = outputs.loss\n",
    "        total_loss += loss.item()\n",
    "        loss.backward()\n",
    "        optimizer.step()\n",
    "    print(f\"Epoch {epoch + 1}, Loss: {total_loss / len(train_loader)}\")"
   ]
  },
  {
   "cell_type": "code",
   "execution_count": 18,
   "id": "f5f4236b-ec29-471d-a2e3-8757be064ca5",
   "metadata": {},
   "outputs": [
    {
     "name": "stdout",
     "output_type": "stream",
     "text": [
      "              precision    recall  f1-score   support\n",
      "\n",
      "     Abusive       0.09      0.55      0.15       278\n",
      "       Anger       0.16      0.15      0.15       294\n",
      "  Excitement       0.14      0.15      0.14       313\n",
      "        Fear       0.00      0.00      0.00       316\n",
      "       Happy       0.00      0.00      0.00       295\n",
      "      Humour       0.00      0.00      0.00       316\n",
      "        Love       0.19      0.34      0.24       277\n",
      "         Sad       0.32      0.03      0.06       286\n",
      "     Sarcasm       0.10      0.03      0.05       306\n",
      "    Surprise       0.00      0.00      0.00       319\n",
      "\n",
      "    accuracy                           0.12      3000\n",
      "   macro avg       0.10      0.12      0.08      3000\n",
      "weighted avg       0.10      0.12      0.08      3000\n",
      "\n"
     ]
    },
    {
     "name": "stderr",
     "output_type": "stream",
     "text": [
      "/home/fariz/Works/Malayalam-Emotion-Detector/env/lib64/python3.11/site-packages/sklearn/metrics/_classification.py:1565: UndefinedMetricWarning: Precision is ill-defined and being set to 0.0 in labels with no predicted samples. Use `zero_division` parameter to control this behavior.\n",
      "  _warn_prf(average, modifier, f\"{metric.capitalize()} is\", len(result))\n",
      "/home/fariz/Works/Malayalam-Emotion-Detector/env/lib64/python3.11/site-packages/sklearn/metrics/_classification.py:1565: UndefinedMetricWarning: Precision is ill-defined and being set to 0.0 in labels with no predicted samples. Use `zero_division` parameter to control this behavior.\n",
      "  _warn_prf(average, modifier, f\"{metric.capitalize()} is\", len(result))\n",
      "/home/fariz/Works/Malayalam-Emotion-Detector/env/lib64/python3.11/site-packages/sklearn/metrics/_classification.py:1565: UndefinedMetricWarning: Precision is ill-defined and being set to 0.0 in labels with no predicted samples. Use `zero_division` parameter to control this behavior.\n",
      "  _warn_prf(average, modifier, f\"{metric.capitalize()} is\", len(result))\n"
     ]
    }
   ],
   "source": [
    "model.eval()\n",
    "predictions, true_labels = [], []\n",
    "\n",
    "with torch.no_grad():\n",
    "    for batch in test_loader:\n",
    "        input_ids, attention_mask, labels = batch\n",
    "        input_ids, attention_mask, labels = input_ids.to(device), attention_mask.to(device), labels.to(device)\n",
    "        outputs = model(input_ids, attention_mask=attention_mask)\n",
    "        logits = outputs.logits\n",
    "        preds = torch.argmax(logits, dim=1)\n",
    "        predictions.extend(preds.cpu().numpy())\n",
    "        true_labels.extend(labels.cpu().numpy())\n",
    "\n",
    "# Classification Report\n",
    "print(classification_report(true_labels, predictions, target_names=list(label_mapping.values())))"
   ]
  },
  {
   "cell_type": "code",
   "execution_count": 19,
   "id": "ce647e5f-b287-4326-acd1-9c561f9e1ebc",
   "metadata": {},
   "outputs": [
    {
     "data": {
      "text/plain": [
       "Text(0.5, 1.0, 'Confusion Matrix')"
      ]
     },
     "execution_count": 19,
     "metadata": {},
     "output_type": "execute_result"
    },
    {
     "data": {
      "image/png": "[encoded data removed]",
      "text/plain": [
       "<Figure size 640x480 with 2 Axes>"
      ]
     },
     "metadata": {},
     "output_type": "display_data"
    }
   ],
   "source": [
    "cm = confusion_matrix(true_labels, predictions)\n",
    "disp = ConfusionMatrixDisplay(confusion_matrix=cm, display_labels=list(label_mapping.values()))\n",
    "disp.plot(cmap='Blues', xticks_rotation='vertical')\n",
    "sns.set(rc={'figure.figsize':(8,6)})\n",
    "disp.ax_.set_title(\"Confusion Matrix\")"
   ]
  },
  {
   "cell_type": "code",
   "execution_count": 20,
   "id": "d50ccfc5-b35c-4933-92b4-911d9da8c341",
   "metadata": {},
   "outputs": [
    {
     "name": "stdout",
     "output_type": "stream",
     "text": [
      "Predicted Emotion: Humour\n"
     ]
    }
   ],
   "source": [
    "def predict_emotion(text):\n",
    "    inputs = tokenizer(text, return_tensors='pt', truncation=True, padding=True, max_length=128)\n",
    "    inputs = {key: val.to(device) for key, val in inputs.items()}\n",
    "    with torch.no_grad():\n",
    "        outputs = model(**inputs)\n",
    "    logits = outputs.logits\n",
    "    pred = torch.argmax(logits, dim=1).cpu().numpy()\n",
    "    return label_mapping[pred[0]]\n",
    "\n",
    "# Example\n",
    "review = [\"സ്നേഹം ഒരുപാട് മാറ്റങ്ങൾ കൊണ്ടു വരും\"]\n",
    "print(f\"Predicted Emotion: {predict_emotion(review)}\")"
   ]
  },
  {
   "cell_type": "code",
   "execution_count": 2,
   "id": "ea3d1de5-1811-4b08-bef2-49f298300b26",
   "metadata": {},
   "outputs": [
    {
     "ename": "NameError",
     "evalue": "name 'model' is not defined",
     "output_type": "error",
     "traceback": [
      "\u001b[0;31m---------------------------------------------------------------------------\u001b[0m",
      "\u001b[0;31mNameError\u001b[0m                                 Traceback (most recent call last)",
      "Cell \u001b[0;32mIn[2], line 8\u001b[0m\n\u001b[1;32m      5\u001b[0m os\u001b[38;5;241m.\u001b[39mmakedirs(output_dir, exist_ok\u001b[38;5;241m=\u001b[39m\u001b[38;5;28;01mTrue\u001b[39;00m)\n\u001b[1;32m      7\u001b[0m \u001b[38;5;66;03m# Save the model\u001b[39;00m\n\u001b[0;32m----> 8\u001b[0m \u001b[43mmodel\u001b[49m\u001b[38;5;241m.\u001b[39msave_pretrained(output_dir)\n\u001b[1;32m     10\u001b[0m \u001b[38;5;66;03m# Save the tokenizer\u001b[39;00m\n\u001b[1;32m     11\u001b[0m tokenizer\u001b[38;5;241m.\u001b[39msave_pretrained(output_dir)\n",
      "\u001b[0;31mNameError\u001b[0m: name 'model' is not defined"
     ]
    }
   ],
   "source": [
    "import os\n",
    "\n",
    "# Create a directory to save the model and tokenizer\n",
    "output_dir = \"./bert_emotion_model\"\n",
    "os.makedirs(output_dir, exist_ok=True)\n",
    "\n",
    "# Save the model\n",
    "model.save_pretrained(output_dir)\n",
    "\n",
    "# Save the tokenizer\n",
    "tokenizer.save_pretrained(output_dir)\n",
    "\n",
    "# Save the label mapping\n",
    "import json\n",
    "with open(os.path.join(output_dir, \"label_mapping.json\"), \"w\") as f:\n",
    "    json.dump(label_mapping, f)\n",
    "\n",
    "print(f\"Model, tokenizer, and label mapping saved to {output_dir}\")"
   ]
  },
  {
   "cell_type": "code",
   "execution_count": null,
   "id": "8f2ab540-16f3-4bca-94ed-b9f0d0e820e4",
   "metadata": {},
   "outputs": [],
   "source": []
  }
 ],
 "metadata": {
  "kernelspec": {
   "display_name": "Emotion Detector Env",
   "language": "python",
   "name": "env"
  },
  "language_info": {
   "codemirror_mode": {
    "name": "ipython",
    "version": 3
   },
   "file_extension": ".py",
   "mimetype": "text/x-python",
   "name": "python",
   "nbconvert_exporter": "python",
   "pygments_lexer": "ipython3",
   "version": "3.11.11"
  }
 },
 "nbformat": 4,
 "nbformat_minor": 5
}
